{
  "nbformat": 4,
  "nbformat_minor": 0,
  "metadata": {
    "colab": {
      "name": "corpus_ngram_process.ipynb",
      "provenance": [],
      "collapsed_sections": [
        "n686lmOjJeVs",
        "UKPz5f1wxOwL",
        "8tjkjE5-J7fj",
        "LhNJgWULyBj8",
        "FdsIgSCZTM5i",
        "4vOwV7xzu2XZ"
      ]
    },
    "kernelspec": {
      "name": "python3",
      "display_name": "Python 3"
    },
    "language_info": {
      "name": "python"
    }
  },
  "cells": [
    {
      "cell_type": "markdown",
      "metadata": {
        "id": "n686lmOjJeVs"
      },
      "source": [
        "##data loading"
      ]
    },
    {
      "cell_type": "code",
      "metadata": {
        "id": "4hisMjrF4vn2",
        "colab": {
          "base_uri": "https://localhost:8080/"
        },
        "outputId": "ac435081-a60d-4c50-f577-60cb85e46d1b"
      },
      "source": [
        "import pickle\n",
        "import nltk\n",
        "import pandas as pd\n",
        "import re\n",
        "import string\n",
        "import advertools as adv #irsh stop words\n",
        "from nltk.tokenize import word_tokenize\n",
        "nltk.download(\"punkt\")"
      ],
      "execution_count": 24,
      "outputs": [
        {
          "output_type": "stream",
          "name": "stdout",
          "text": [
            "[nltk_data] Downloading package punkt to /root/nltk_data...\n",
            "[nltk_data]   Package punkt is already up-to-date!\n"
          ]
        },
        {
          "output_type": "execute_result",
          "data": {
            "text/plain": [
              "True"
            ]
          },
          "metadata": {},
          "execution_count": 24
        }
      ]
    },
    {
      "cell_type": "code",
      "metadata": {
        "colab": {
          "base_uri": "https://localhost:8080/"
        },
        "id": "ZaQj2EfXpeQh",
        "outputId": "cccca6b5-4a51-4bea-d9c4-0c2e9ff492f9"
      },
      "source": [
        "%cd /content/"
      ],
      "execution_count": 19,
      "outputs": [
        {
          "output_type": "stream",
          "name": "stdout",
          "text": [
            "/content\n"
          ]
        }
      ]
    },
    {
      "cell_type": "code",
      "metadata": {
        "colab": {
          "base_uri": "https://localhost:8080/"
        },
        "id": "aRDyaRDkoJy1",
        "outputId": "e9822631-4434-44e3-fe77-27383d32e9cf"
      },
      "source": [
        "from google.colab import drive\n",
        "drive.mount('/content/drive')"
      ],
      "execution_count": 20,
      "outputs": [
        {
          "output_type": "stream",
          "name": "stdout",
          "text": [
            "Drive already mounted at /content/drive; to attempt to forcibly remount, call drive.mount(\"/content/drive\", force_remount=True).\n"
          ]
        }
      ]
    },
    {
      "cell_type": "code",
      "metadata": {
        "colab": {
          "base_uri": "https://localhost:8080/"
        },
        "id": "eyut-AxmpkDl",
        "outputId": "70587e76-3d64-4483-a3b9-2d3e623adf37"
      },
      "source": [
        "%cd drive/MyDrive/Colab\\ Notebooks/5030/"
      ],
      "execution_count": 21,
      "outputs": [
        {
          "output_type": "stream",
          "name": "stdout",
          "text": [
            "/content/drive/MyDrive/Colab Notebooks/5030\n"
          ]
        }
      ]
    },
    {
      "cell_type": "markdown",
      "metadata": {
        "id": "kbjAHRDzJSwO"
      },
      "source": [
        "Irish"
      ]
    },
    {
      "cell_type": "code",
      "metadata": {
        "id": "wqJG56u8xN9P"
      },
      "source": [
        "filenames = ['bible.txt', 'blogs.txt', 'legal.txt', 'news.txt', 'wiki.txt']\n",
        "\n",
        "with open('irish_corpus_no_tweet.txt', 'w') as outfile:\n",
        "    for names in filenames:\n",
        "        with open(names) as infile:\n",
        "            outfile.write(infile.read())\n",
        "        outfile.write(\"\\n\")\n"
      ],
      "execution_count": null,
      "outputs": []
    },
    {
      "cell_type": "code",
      "metadata": {
        "colab": {
          "base_uri": "https://localhost:8080/",
          "height": 35
        },
        "id": "9jh5Pzw50nl8",
        "outputId": "2edef00a-effb-4aff-e41e-f26e03aa54fd"
      },
      "source": [
        "f = open('irish_corpus_no_tweet.txt', 'r')\n",
        "text = f.read()\n",
        "f.close()\n",
        "text[:10]"
      ],
      "execution_count": null,
      "outputs": [
        {
          "output_type": "execute_result",
          "data": {
            "application/vnd.google.colaboratory.intrinsic+json": {
              "type": "string"
            },
            "text/plain": [
              "'\\nBriathra '"
            ]
          },
          "metadata": {},
          "execution_count": 6
        }
      ]
    },
    {
      "cell_type": "markdown",
      "metadata": {
        "id": "Xpnh6byFJa12"
      },
      "source": [
        "English"
      ]
    },
    {
      "cell_type": "code",
      "metadata": {
        "colab": {
          "base_uri": "https://localhost:8080/",
          "height": 35
        },
        "id": "IBHw2ad5JZox",
        "outputId": "4428b544-9869-4d31-9f1b-9adad79d747c"
      },
      "source": [
        "f = open('corpus.txt', 'r')\n",
        "en_text = f.read()\n",
        "f.close()\n",
        "en_text[:10]"
      ],
      "execution_count": 25,
      "outputs": [
        {
          "output_type": "execute_result",
          "data": {
            "application/vnd.google.colaboratory.intrinsic+json": {
              "type": "string"
            },
            "text/plain": [
              "'When the s'"
            ]
          },
          "metadata": {},
          "execution_count": 25
        }
      ]
    },
    {
      "cell_type": "markdown",
      "metadata": {
        "id": "UKPz5f1wxOwL"
      },
      "source": [
        "##data cleaning"
      ]
    },
    {
      "cell_type": "code",
      "metadata": {
        "id": "wMdnj1J68rkN"
      },
      "source": [
        "import unicodedata"
      ],
      "execution_count": 26,
      "outputs": []
    },
    {
      "cell_type": "code",
      "metadata": {
        "id": "YluAcMZvy8pl"
      },
      "source": [
        "def lower_ga(word):\n",
        "    vowel = 'AEIOU\\u00c1\\u00c9\\u00cd\\u00d3\\u00da'\n",
        "    ga_word = word\n",
        "    if len(ga_word)>1:\n",
        "        if (ga_word[0] in ['t','n']) and unicodedata.normalize('NFC', ga_word)[1] in vowel:\n",
        "          ga_word = ga_word[0]+'-'+ga_word[1:]\n",
        "    return ga_word.lower()"
      ],
      "execution_count": 27,
      "outputs": []
    },
    {
      "cell_type": "code",
      "metadata": {
        "id": "xKurMpye2DI7"
      },
      "source": [
        "def clean_text_round1(text):\n",
        "    text = re.sub('\\[.*?\\]', '', text)\n",
        "    text = re.sub('[%s]' % re.escape(string.punctuation), '', text)\n",
        "    text = re.sub('\\w*\\d\\w*', '', text)\n",
        "    return text\n"
      ],
      "execution_count": 28,
      "outputs": []
    },
    {
      "cell_type": "code",
      "metadata": {
        "id": "_LTXp2DZ5Bfj"
      },
      "source": [
        "def clean_text_round2(text):\n",
        "    '''Get rid of some additional punctuation and non-sensical text that was missed the first time around.'''\n",
        "    text = re.sub('[‘’“”…]', '', text)\n",
        "    text = re.sub('\\n', ' ', text)\n",
        "    return text"
      ],
      "execution_count": 29,
      "outputs": []
    },
    {
      "cell_type": "markdown",
      "metadata": {
        "id": "8tjkjE5-J7fj"
      },
      "source": [
        "##Irish cleaning"
      ]
    },
    {
      "cell_type": "code",
      "metadata": {
        "id": "_vE4H5kN4nJ4"
      },
      "source": [
        "text_r1 = clean_text_round1(text)"
      ],
      "execution_count": null,
      "outputs": []
    },
    {
      "cell_type": "code",
      "metadata": {
        "id": "gwnRsD1y5JGN"
      },
      "source": [
        "text_r2 = clean_text_round2(text_r1)"
      ],
      "execution_count": null,
      "outputs": []
    },
    {
      "cell_type": "code",
      "metadata": {
        "colab": {
          "base_uri": "https://localhost:8080/",
          "height": 137
        },
        "id": "W_kdLFOy5Qrb",
        "outputId": "b26cdf49-4dc6-4189-ea61-bc0aa518f3c0"
      },
      "source": [
        "text_r2[:1000]"
      ],
      "execution_count": null,
      "outputs": [
        {
          "output_type": "execute_result",
          "data": {
            "application/vnd.google.colaboratory.intrinsic+json": {
              "type": "string"
            },
            "text/plain": [
              "' Briathra Amós aoire de chuid Theacóá Fís a bhí aige faoi Iosrael i laethanta Uiziá rí Iúdá agus i laethanta Iarobám mac Ióáis rí Iosrael dhá bhliain roimh an gcrith talún  Agus dúirt sé Tá an Tiarna ag búiríl ó Shíón ag labhairt os ard ó Iarúsailéim Tá féarach na naoirí ruadhóite agus mullach Chairmeil ag feo Mar seo a deir an Tiarna In éiric thrí pheaca na Damaisce in éiric a ceithre pheaca ní rachaidh mé siar ar mo dhaorbhreith De bhrí gur lasc siad Gileád le súiste iarainn teilgfidh mé tine síos ar theach Hazáéil a dhófaidh caisleáin Bhein Hadad brisfidh mé barraí gheata na Damaisce agus dítheoidh mé áitritheoirí Ghleann Áivin agus rialtóir Bhéit Eidin agus rachaidh muintir na Síre ar deoraíocht go Cír a deir an Tiarna Mar seo a deir an Tiarna In éiric thrí pheaca Ghazá In éiric a cheithre pheaca ní rachaidh mé siar ar an bpionós De bhrí gur dhíbir siad cine iomlán mar bhránna go hEadóm teilgfidh mé tine síos ar bhalla Ghazá a dhófaidh a páláis díbreoidh mé áitritheoirí Aisdeod agu'"
            ]
          },
          "metadata": {},
          "execution_count": 16
        }
      ]
    },
    {
      "cell_type": "code",
      "metadata": {
        "id": "ZgkrxHfu5pRr"
      },
      "source": [
        "#tokenization\n",
        "text_r2_token = word_tokenize(text_r2)"
      ],
      "execution_count": null,
      "outputs": []
    },
    {
      "cell_type": "code",
      "metadata": {
        "colab": {
          "base_uri": "https://localhost:8080/"
        },
        "id": "uxw55Kr78NGP",
        "outputId": "a347411b-7ca2-4390-c3d3-862861a0e804"
      },
      "source": [
        "len(text_r2_token)"
      ],
      "execution_count": null,
      "outputs": [
        {
          "output_type": "execute_result",
          "data": {
            "text/plain": [
              "22381574"
            ]
          },
          "metadata": {},
          "execution_count": 16
        }
      ]
    },
    {
      "cell_type": "code",
      "metadata": {
        "id": "Jfdrlewe8YZZ"
      },
      "source": [
        "text_lower = [lower_ga(word) for word in text_r2_token]"
      ],
      "execution_count": null,
      "outputs": []
    },
    {
      "cell_type": "code",
      "metadata": {
        "id": "_jwg3UeTq83C"
      },
      "source": [
        "with open('irish_token_no_tweet.pickle', 'wb') as handle:\n",
        "    pickle.dump(text_lower, handle, protocol=pickle.HIGHEST_PROTOCOL)"
      ],
      "execution_count": null,
      "outputs": []
    },
    {
      "cell_type": "code",
      "metadata": {
        "id": "GCZr2TMgXvyz"
      },
      "source": [
        "iris_with_sw = {}\n",
        "for w in text_lower:\n",
        "  if w not in iris_with_sw:\n",
        "    iris_with_sw[w] = 1\n",
        "  else:\n",
        "    iris_with_sw[w] += 1"
      ],
      "execution_count": null,
      "outputs": []
    },
    {
      "cell_type": "code",
      "metadata": {
        "id": "appuy-t1YUVV"
      },
      "source": [
        "#Irish unigram frequency\n",
        "with open('irish_with_sw.pickle', 'wb') as handle:\n",
        "    pickle.dump(iris_with_sw, handle, protocol=pickle.HIGHEST_PROTOCOL)"
      ],
      "execution_count": null,
      "outputs": []
    },
    {
      "cell_type": "markdown",
      "metadata": {
        "id": "LhNJgWULyBj8"
      },
      "source": [
        "##English cleaning"
      ]
    },
    {
      "cell_type": "code",
      "metadata": {
        "colab": {
          "base_uri": "https://localhost:8080/",
          "height": 137
        },
        "id": "NXnOB6lXuNhd",
        "outputId": "c0426d73-8a2a-4c97-e47e-7b5450d9d315"
      },
      "source": [
        "en_text = en_text.lower()\n",
        "en_r1 = clean_text_round1(en_text)\n",
        "en_r1[:1000]"
      ],
      "execution_count": 48,
      "outputs": [
        {
          "output_type": "execute_result",
          "data": {
            "application/vnd.google.colaboratory.intrinsic+json": {
              "type": "string"
            },
            "text/plain": [
              "'when the shouting ended  the bill passed   to   sending it to the senate  where a similar proposal is being sponsored by sen george parkhouse of dallas  \\nmost of the fire was directed by cotten against dallas and sen parkhouse  \\nthe bill would increase from  to  the maximum loan the state could make to a local water project  \\ncotten construed this as a veiled effort by parkhouse to help dallas and other large cities get money which cotten felt could better be spent providing water for rural texas  \\nstatements by other legislators that dallas is paying for all its water program by local bonds  and that less populous places would benefit most by the pending bill  did not sway cottens attack  \\nthe bills defenders were mostly smalltown legislators like j w buchanan of dumas  eligio  kika  de la garza of mission  sam f collins of newton and joe chapman of sulphur springs  \\naustin  texas \\n a houston teacher  now serving in the legislature  proposed thursday a law reducing the time spent lear'"
            ]
          },
          "metadata": {},
          "execution_count": 48
        }
      ]
    },
    {
      "cell_type": "code",
      "metadata": {
        "colab": {
          "base_uri": "https://localhost:8080/",
          "height": 137
        },
        "id": "BycebUx7vZRj",
        "outputId": "72937874-b0b9-4522-caeb-6a5cd2d01a0a"
      },
      "source": [
        "en_r2 = clean_text_round2(en_r1)\n",
        "en_r2[:1000]"
      ],
      "execution_count": 49,
      "outputs": [
        {
          "output_type": "execute_result",
          "data": {
            "application/vnd.google.colaboratory.intrinsic+json": {
              "type": "string"
            },
            "text/plain": [
              "'when the shouting ended  the bill passed   to   sending it to the senate  where a similar proposal is being sponsored by sen george parkhouse of dallas   most of the fire was directed by cotten against dallas and sen parkhouse   the bill would increase from  to  the maximum loan the state could make to a local water project   cotten construed this as a veiled effort by parkhouse to help dallas and other large cities get money which cotten felt could better be spent providing water for rural texas   statements by other legislators that dallas is paying for all its water program by local bonds  and that less populous places would benefit most by the pending bill  did not sway cottens attack   the bills defenders were mostly smalltown legislators like j w buchanan of dumas  eligio  kika  de la garza of mission  sam f collins of newton and joe chapman of sulphur springs   austin  texas   a houston teacher  now serving in the legislature  proposed thursday a law reducing the time spent lear'"
            ]
          },
          "metadata": {},
          "execution_count": 49
        }
      ]
    },
    {
      "cell_type": "code",
      "metadata": {
        "id": "mU-r1xAuwnUz",
        "colab": {
          "base_uri": "https://localhost:8080/"
        },
        "outputId": "7511e70f-dc0c-4aac-c402-44cc57559e7c"
      },
      "source": [
        "en_tokens = word_tokenize(en_r2)\n",
        "len(en_tokens)"
      ],
      "execution_count": 50,
      "outputs": [
        {
          "output_type": "execute_result",
          "data": {
            "text/plain": [
              "1004529"
            ]
          },
          "metadata": {},
          "execution_count": 50
        }
      ]
    },
    {
      "cell_type": "code",
      "metadata": {
        "id": "d7SNh4LzZrxa",
        "colab": {
          "base_uri": "https://localhost:8080/"
        },
        "outputId": "c0977498-e36e-4cc8-dc4e-0f9d58739b4c"
      },
      "source": [
        "#build dictionary with frequency\n",
        "en_unigram = {}\n",
        "for word in en_tokens:\n",
        "    if word not in en_unigram:\n",
        "        en_unigram[word] = 1\n",
        "    else:\n",
        "        en_unigram[word] += 1\n",
        "len(en_unigram)"
      ],
      "execution_count": 51,
      "outputs": [
        {
          "output_type": "execute_result",
          "data": {
            "text/plain": [
              "46223"
            ]
          },
          "metadata": {},
          "execution_count": 51
        }
      ]
    },
    {
      "cell_type": "code",
      "metadata": {
        "id": "jJgVAmnjNP3t"
      },
      "source": [
        "with open('en_unigram.pickle', 'wb') as handle:\n",
        "    pickle.dump(en_unigram, handle, protocol=pickle.HIGHEST_PROTOCOL)"
      ],
      "execution_count": 53,
      "outputs": []
    },
    {
      "cell_type": "markdown",
      "metadata": {
        "id": "FdsIgSCZTM5i"
      },
      "source": [
        "##context (ngram frequency)"
      ]
    },
    {
      "cell_type": "code",
      "metadata": {
        "id": "VtZ8DdrcmVDA"
      },
      "source": [
        "def getNgram(text_tokens, n):\n",
        "  ngram = []\n",
        "  for i in range(len(text_tokens)-n+1):\n",
        "    ngram.append(text_tokens[i: i+n])\n",
        "  return ngram\n",
        "  "
      ],
      "execution_count": 37,
      "outputs": []
    },
    {
      "cell_type": "code",
      "metadata": {
        "id": "QU_tWQWbOUMS"
      },
      "source": [
        "def getNgramFreq(ngram_list):\n",
        "  ngram = {}\n",
        "  for each in ngram_list:\n",
        "    gram = ' '.join(each)\n",
        "    if gram not in ngram:\n",
        "      ngram[gram] = 1\n",
        "    else:\n",
        "      ngram[gram] += 1\n",
        "  return ngram"
      ],
      "execution_count": 42,
      "outputs": []
    },
    {
      "cell_type": "markdown",
      "metadata": {
        "id": "4vOwV7xzu2XZ"
      },
      "source": [
        "##Irish ngram"
      ]
    },
    {
      "cell_type": "markdown",
      "metadata": {
        "id": "d0hqJ9guS9Ah"
      },
      "source": [
        "bigram"
      ]
    },
    {
      "cell_type": "code",
      "metadata": {
        "id": "QpfvIWGgTQCU"
      },
      "source": [
        "bigram_list = getNgram(text_lower,2)"
      ],
      "execution_count": null,
      "outputs": []
    },
    {
      "cell_type": "code",
      "metadata": {
        "id": "chgK0MnnsdGp"
      },
      "source": [
        "irish_bigram = {}\n",
        "for each in bigram_list:\n",
        "  bigram = each[0]+' '+each[1]\n",
        "  if bigram not in irish_bigram:  \n",
        "    irish_bigram[bigram] = 1\n",
        "  else:\n",
        "    irish_bigram[bigram] += 1"
      ],
      "execution_count": null,
      "outputs": []
    },
    {
      "cell_type": "code",
      "metadata": {
        "id": "GcXaRcfHuNnc"
      },
      "source": [
        "with open('irish_bigram_no_tweet.pickle', 'wb') as handle:\n",
        "    pickle.dump(irish_bigram, handle, protocol=pickle.HIGHEST_PROTOCOL)"
      ],
      "execution_count": null,
      "outputs": []
    },
    {
      "cell_type": "code",
      "metadata": {
        "colab": {
          "base_uri": "https://localhost:8080/"
        },
        "id": "6nBtrmEauKYG",
        "outputId": "72aef071-f374-4623-b8ce-095e3697f1ff"
      },
      "source": [
        "len(irish_bigram) #with tweets 5603999"
      ],
      "execution_count": null,
      "outputs": [
        {
          "output_type": "execute_result",
          "data": {
            "text/plain": [
              "3597524"
            ]
          },
          "metadata": {},
          "execution_count": 23
        }
      ]
    },
    {
      "cell_type": "code",
      "metadata": {
        "colab": {
          "base_uri": "https://localhost:8080/",
          "height": 419
        },
        "id": "2fpuH79N2BLB",
        "outputId": "d0bca9c3-2848-4cd4-9a73-d91db8748455"
      },
      "source": [
        "bidf = pd.DataFrame(irish_bigram.items(), columns=['bigram', 'frequency'], index=None)\n",
        "bidf"
      ],
      "execution_count": null,
      "outputs": [
        {
          "output_type": "execute_result",
          "data": {
            "text/html": [
              "<div>\n",
              "<style scoped>\n",
              "    .dataframe tbody tr th:only-of-type {\n",
              "        vertical-align: middle;\n",
              "    }\n",
              "\n",
              "    .dataframe tbody tr th {\n",
              "        vertical-align: top;\n",
              "    }\n",
              "\n",
              "    .dataframe thead th {\n",
              "        text-align: right;\n",
              "    }\n",
              "</style>\n",
              "<table border=\"1\" class=\"dataframe\">\n",
              "  <thead>\n",
              "    <tr style=\"text-align: right;\">\n",
              "      <th></th>\n",
              "      <th>bigram</th>\n",
              "      <th>frequency</th>\n",
              "    </tr>\n",
              "  </thead>\n",
              "  <tbody>\n",
              "    <tr>\n",
              "      <th>0</th>\n",
              "      <td>briathra amós</td>\n",
              "      <td>1</td>\n",
              "    </tr>\n",
              "    <tr>\n",
              "      <th>1</th>\n",
              "      <td>amós aoire</td>\n",
              "      <td>1</td>\n",
              "    </tr>\n",
              "    <tr>\n",
              "      <th>2</th>\n",
              "      <td>aoire de</td>\n",
              "      <td>1</td>\n",
              "    </tr>\n",
              "    <tr>\n",
              "      <th>3</th>\n",
              "      <td>de chuid</td>\n",
              "      <td>12268</td>\n",
              "    </tr>\n",
              "    <tr>\n",
              "      <th>4</th>\n",
              "      <td>chuid theacóá</td>\n",
              "      <td>1</td>\n",
              "    </tr>\n",
              "    <tr>\n",
              "      <th>...</th>\n",
              "      <td>...</td>\n",
              "      <td>...</td>\n",
              "    </tr>\n",
              "    <tr>\n",
              "      <th>5603994</th>\n",
              "      <td>john kiffmeyer</td>\n",
              "      <td>1</td>\n",
              "    </tr>\n",
              "    <tr>\n",
              "      <th>5603995</th>\n",
              "      <td>kiffmeyer ach</td>\n",
              "      <td>1</td>\n",
              "    </tr>\n",
              "    <tr>\n",
              "      <th>5603996</th>\n",
              "      <td>roimh taifeadadh</td>\n",
              "      <td>1</td>\n",
              "    </tr>\n",
              "    <tr>\n",
              "      <th>5603997</th>\n",
              "      <td>dara albaim</td>\n",
              "      <td>1</td>\n",
              "    </tr>\n",
              "    <tr>\n",
              "      <th>5603998</th>\n",
              "      <td>acu kerplunk</td>\n",
              "      <td>1</td>\n",
              "    </tr>\n",
              "  </tbody>\n",
              "</table>\n",
              "<p>5603999 rows × 2 columns</p>\n",
              "</div>"
            ],
            "text/plain": [
              "                   bigram  frequency\n",
              "0           briathra amós          1\n",
              "1              amós aoire          1\n",
              "2                aoire de          1\n",
              "3                de chuid      12268\n",
              "4           chuid theacóá          1\n",
              "...                   ...        ...\n",
              "5603994    john kiffmeyer          1\n",
              "5603995     kiffmeyer ach          1\n",
              "5603996  roimh taifeadadh          1\n",
              "5603997       dara albaim          1\n",
              "5603998      acu kerplunk          1\n",
              "\n",
              "[5603999 rows x 2 columns]"
            ]
          },
          "metadata": {},
          "execution_count": 20
        }
      ]
    },
    {
      "cell_type": "code",
      "metadata": {
        "id": "lBebtjVe2daE"
      },
      "source": [
        "bidf_sort = bidf.sort_values(by=['frequency'],ascending=False)"
      ],
      "execution_count": null,
      "outputs": []
    },
    {
      "cell_type": "code",
      "metadata": {
        "colab": {
          "base_uri": "https://localhost:8080/",
          "height": 419
        },
        "id": "s5v5aWTE3itw",
        "outputId": "7271c587-3072-42d4-a8d6-2eb28aaaf7c0"
      },
      "source": [
        "bidf_sort.set_index([pd.Index(range(len(bidf_sort)))])"
      ],
      "execution_count": null,
      "outputs": [
        {
          "output_type": "execute_result",
          "data": {
            "text/html": [
              "<div>\n",
              "<style scoped>\n",
              "    .dataframe tbody tr th:only-of-type {\n",
              "        vertical-align: middle;\n",
              "    }\n",
              "\n",
              "    .dataframe tbody tr th {\n",
              "        vertical-align: top;\n",
              "    }\n",
              "\n",
              "    .dataframe thead th {\n",
              "        text-align: right;\n",
              "    }\n",
              "</style>\n",
              "<table border=\"1\" class=\"dataframe\">\n",
              "  <thead>\n",
              "    <tr style=\"text-align: right;\">\n",
              "      <th></th>\n",
              "      <th>bigram</th>\n",
              "      <th>frequency</th>\n",
              "    </tr>\n",
              "  </thead>\n",
              "  <tbody>\n",
              "    <tr>\n",
              "      <th>0</th>\n",
              "      <td>ar an</td>\n",
              "      <td>164374</td>\n",
              "    </tr>\n",
              "    <tr>\n",
              "      <th>1</th>\n",
              "      <td>leis an</td>\n",
              "      <td>97238</td>\n",
              "    </tr>\n",
              "    <tr>\n",
              "      <th>2</th>\n",
              "      <td>a bhí</td>\n",
              "      <td>74885</td>\n",
              "    </tr>\n",
              "    <tr>\n",
              "      <th>3</th>\n",
              "      <td>go bhfuil</td>\n",
              "      <td>58209</td>\n",
              "    </tr>\n",
              "    <tr>\n",
              "      <th>4</th>\n",
              "      <td>ag an</td>\n",
              "      <td>58094</td>\n",
              "    </tr>\n",
              "    <tr>\n",
              "      <th>...</th>\n",
              "      <td>...</td>\n",
              "      <td>...</td>\n",
              "    </tr>\n",
              "    <tr>\n",
              "      <th>5603994</th>\n",
              "      <td>ndearnadh dlí</td>\n",
              "      <td>1</td>\n",
              "    </tr>\n",
              "    <tr>\n",
              "      <th>5603995</th>\n",
              "      <td>– european</td>\n",
              "      <td>1</td>\n",
              "    </tr>\n",
              "    <tr>\n",
              "      <th>5603996</th>\n",
              "      <td>communities water</td>\n",
              "      <td>1</td>\n",
              "    </tr>\n",
              "    <tr>\n",
              "      <th>5603997</th>\n",
              "      <td>water policy</td>\n",
              "      <td>1</td>\n",
              "    </tr>\n",
              "    <tr>\n",
              "      <th>5603998</th>\n",
              "      <td>acu kerplunk</td>\n",
              "      <td>1</td>\n",
              "    </tr>\n",
              "  </tbody>\n",
              "</table>\n",
              "<p>5603999 rows × 2 columns</p>\n",
              "</div>"
            ],
            "text/plain": [
              "                    bigram  frequency\n",
              "0                    ar an     164374\n",
              "1                  leis an      97238\n",
              "2                    a bhí      74885\n",
              "3                go bhfuil      58209\n",
              "4                    ag an      58094\n",
              "...                    ...        ...\n",
              "5603994      ndearnadh dlí          1\n",
              "5603995         – european          1\n",
              "5603996  communities water          1\n",
              "5603997       water policy          1\n",
              "5603998       acu kerplunk          1\n",
              "\n",
              "[5603999 rows x 2 columns]"
            ]
          },
          "metadata": {},
          "execution_count": 25
        }
      ]
    },
    {
      "cell_type": "markdown",
      "metadata": {
        "id": "RlKJRQQOu6An"
      },
      "source": [
        "trigram"
      ]
    },
    {
      "cell_type": "code",
      "metadata": {
        "id": "SieR19-JUVaq"
      },
      "source": [
        "file = open('irish_token_no_tweet.pickle','rb')\n",
        "text_lower = pickle.load(file)\n",
        "file.close()"
      ],
      "execution_count": 63,
      "outputs": []
    },
    {
      "cell_type": "code",
      "metadata": {
        "id": "7W1I61mvu0n1"
      },
      "source": [
        "trigram_list = getNgram(text_lower,3)"
      ],
      "execution_count": 65,
      "outputs": []
    },
    {
      "cell_type": "code",
      "metadata": {
        "id": "ePXM1Yg0VW51"
      },
      "source": [
        "irish_trigram = getNgramFreq(trigram_list)"
      ],
      "execution_count": 67,
      "outputs": []
    },
    {
      "cell_type": "code",
      "metadata": {
        "id": "tTZmqy8TVv4V"
      },
      "source": [
        "with open('irish_trigram.pickle', 'wb') as handle:\n",
        "    pickle.dump(irish_trigram, handle, protocol=pickle.HIGHEST_PROTOCOL)"
      ],
      "execution_count": 69,
      "outputs": []
    },
    {
      "cell_type": "code",
      "metadata": {
        "colab": {
          "base_uri": "https://localhost:8080/"
        },
        "id": "XRpD-Ns8WaGX",
        "outputId": "dbac2723-7512-44bb-c215-25388b1ed2a4"
      },
      "source": [
        "len(irish_trigram)"
      ],
      "execution_count": 70,
      "outputs": [
        {
          "output_type": "execute_result",
          "data": {
            "text/plain": [
              "9915325"
            ]
          },
          "metadata": {},
          "execution_count": 70
        }
      ]
    },
    {
      "cell_type": "markdown",
      "metadata": {
        "id": "OlnEPmfUN1cb"
      },
      "source": [
        "##English ngram"
      ]
    },
    {
      "cell_type": "markdown",
      "metadata": {
        "id": "FpmlCDjoOK3q"
      },
      "source": [
        "English bigram"
      ]
    },
    {
      "cell_type": "code",
      "metadata": {
        "id": "a4-RZ5QcN4wd"
      },
      "source": [
        "en2gram = getNgram(en_tokens,2)"
      ],
      "execution_count": 54,
      "outputs": []
    },
    {
      "cell_type": "code",
      "metadata": {
        "id": "0j5z-Fd-Pa7H"
      },
      "source": [
        "en_bigram = getNgramFreq(en2gram)"
      ],
      "execution_count": 55,
      "outputs": []
    },
    {
      "cell_type": "code",
      "metadata": {
        "colab": {
          "base_uri": "https://localhost:8080/"
        },
        "id": "96fTv587PxJ2",
        "outputId": "2e465ca4-04d4-4b0f-d344-09ecb3f40fb3"
      },
      "source": [
        "len(en_bigram)"
      ],
      "execution_count": 56,
      "outputs": [
        {
          "output_type": "execute_result",
          "data": {
            "text/plain": [
              "445460"
            ]
          },
          "metadata": {},
          "execution_count": 56
        }
      ]
    },
    {
      "cell_type": "code",
      "metadata": {
        "id": "2tjb1kdGROM7"
      },
      "source": [
        "with open('en_bigram.pickle', 'wb') as handle:\n",
        "    pickle.dump(en_bigram, handle, protocol=pickle.HIGHEST_PROTOCOL)"
      ],
      "execution_count": 58,
      "outputs": []
    },
    {
      "cell_type": "markdown",
      "metadata": {
        "id": "kxUF_gj9Rh04"
      },
      "source": [
        "English trigram"
      ]
    },
    {
      "cell_type": "code",
      "metadata": {
        "colab": {
          "base_uri": "https://localhost:8080/"
        },
        "id": "nh0zNTcaRbML",
        "outputId": "2c651260-84c8-4c15-b7ba-5dab76870ad5"
      },
      "source": [
        "en3gram = getNgram(en_tokens,3)\n",
        "en_trigram = getNgramFreq(en3gram)\n",
        "len(en_trigram)"
      ],
      "execution_count": 59,
      "outputs": [
        {
          "output_type": "execute_result",
          "data": {
            "text/plain": [
              "837269"
            ]
          },
          "metadata": {},
          "execution_count": 59
        }
      ]
    },
    {
      "cell_type": "code",
      "metadata": {
        "id": "vwI3t6sDRwgJ"
      },
      "source": [
        "with open('en_trigram.pickle', 'wb') as handle:\n",
        "    pickle.dump(en_trigram, handle, protocol=pickle.HIGHEST_PROTOCOL)"
      ],
      "execution_count": 61,
      "outputs": []
    },
    {
      "cell_type": "markdown",
      "metadata": {
        "id": "lQP1my466943"
      },
      "source": [
        "##edit distance"
      ]
    },
    {
      "cell_type": "code",
      "metadata": {
        "id": "pZ-qMj4InyZS"
      },
      "source": [
        "#candidates with 1,2 edit distance\n",
        "def edits1(word):\n",
        "    letters    = 'abcdefghijklmnopqrstuvwxyz'\n",
        "    splits     = [(word[:i], word[i:])    for i in range(len(word) + 1)]\n",
        "    deletes    = [L + R[1:]               for L, R in splits if R]\n",
        "    transposes = [L + R[1] + R[0] + R[2:] for L, R in splits if len(R)>1]\n",
        "    replaces   = [L + c + R[1:]           for L, R in splits if R for c in letters]\n",
        "    inserts    = [L + c + R               for L, R in splits for c in letters]\n",
        "    return set(deletes + transposes + replaces + inserts)\n",
        "\n",
        "def edits2(word): \n",
        "    return (e2 for e1 in edits1(word) for e2 in edits1(e1))\n",
        "\n",
        "def irish_edits1(word):\n",
        "    letters    = 'abcdefghijklmnopqrstuvwxyz-áéíóú'\n",
        "    splits     = [(word[:i], word[i:])    for i in range(len(word) + 1)]\n",
        "    deletes    = [L + R[1:]               for L, R in splits if R]\n",
        "    transposes = [L + R[1] + R[0] + R[2:] for L, R in splits if len(R)>1]\n",
        "    replaces   = [L + c + R[1:]           for L, R in splits if R for c in letters]\n",
        "    inserts    = [L + c + R               for L, R in splits for c in letters]\n",
        "    return set(deletes + transposes + replaces + inserts)\n",
        "\n",
        "def irish_edits2(word): \n",
        "    return (e2 for e1 in irish_edits1(word) for e2 in irish_edits1(e1))\n"
      ],
      "execution_count": null,
      "outputs": []
    },
    {
      "cell_type": "code",
      "metadata": {
        "id": "Cav3cdPXOgM7"
      },
      "source": [
        "'''\n",
        "def editDistDP(str1, str2):\n",
        "    m = len(str1)\n",
        "    n = len(str2)\n",
        "    dp = [[0 for x in range(n + 1)] for x in range(m + 1)]\n",
        "    for i in range(m + 1):\n",
        "        for j in range(n + 1):\n",
        "            if i == 0:\n",
        "                dp[i][j] = j    \n",
        "            elif j == 0:\n",
        "                dp[i][j] = i    \n",
        "            elif str1[i-1] == str2[j-1]:\n",
        "                dp[i][j] = dp[i-1][j-1]\n",
        "            else:\n",
        "                dp[i][j] = 1 + min(dp[i][j-1],        # Insert\n",
        "                                   dp[i-1][j],        # Remove\n",
        "                                   dp[i-1][j-1])    # Replace\n",
        "    #print(dp)                               \n",
        "    return dp[m][n]\n",
        "'''"
      ],
      "execution_count": null,
      "outputs": []
    }
  ]
}